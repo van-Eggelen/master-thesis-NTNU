{
 "cells": [
  {
   "cell_type": "markdown",
   "id": "2eba94a0-667c-4596-bbae-fbf8b4e368c3",
   "metadata": {},
   "source": [
    "# Stability of CoV as a selection method"
   ]
  },
  {
   "cell_type": "code",
   "execution_count": 1,
   "id": "8001c260-7e25-4a48-9897-442d8420ebd7",
   "metadata": {},
   "outputs": [],
   "source": [
    "#import libraries\n",
    "import pandas as pd\n",
    "import numpy as np\n",
    "from IPython.display import display\n",
    "\n",
    "from sklearn.pipeline import Pipeline\n",
    "from sklearn.preprocessing import StandardScaler\n",
    "from sklearn.model_selection import LeaveOneOut\n",
    "from sklearn.model_selection import cross_val_score\n",
    "from sklearn.model_selection import cross_val_predict\n",
    "from sklearn import linear_model"
   ]
  },
  {
   "cell_type": "code",
   "execution_count": 2,
   "id": "fbd0cc4f-3bb4-4523-b78b-11663a647043",
   "metadata": {},
   "outputs": [],
   "source": [
    "#import self-made functions\n",
    "%run /Users/mariekececilia/Documents/master_thesis_code/methods.ipynb"
   ]
  },
  {
   "cell_type": "code",
   "execution_count": 3,
   "id": "8d7535e8-ee70-4114-9550-0c9f4fcae7d7",
   "metadata": {},
   "outputs": [],
   "source": [
    "#figure saving settings for this notebook\n",
    "folder_path_figures = 'Figures/'\n",
    "figure_format = 'png'"
   ]
  },
  {
   "cell_type": "markdown",
   "id": "1eb718f8-c71a-4cd6-886d-627dcbc74411",
   "metadata": {
    "tags": []
   },
   "source": [
    "## Load and clean data"
   ]
  },
  {
   "cell_type": "code",
   "execution_count": 4,
   "id": "629e3038-32f8-46bd-ba0d-d624ef2cae66",
   "metadata": {},
   "outputs": [],
   "source": [
    "#load transcriptional and fluxomic data\n",
    "gexp, flux = load_gerosa()\n",
    "\n",
    "#clean the transcriptional data (remove duplicates)\n",
    "gexp, groups = clean_gexp_g(gexp)\n",
    "\n",
    "#define features\n",
    "X = gexp"
   ]
  },
  {
   "cell_type": "markdown",
   "id": "9c25c70c-1cb0-407c-a07f-3af8963d9f85",
   "metadata": {
    "tags": []
   },
   "source": [
    "## Create models/pipelines"
   ]
  },
  {
   "cell_type": "markdown",
   "id": "e5239160-2919-4324-afe2-14f3c7a8921e",
   "metadata": {},
   "source": [
    "Set selection parameters:"
   ]
  },
  {
   "cell_type": "code",
   "execution_count": 5,
   "id": "bbb93b30-e123-4cec-802a-ce897d7edd37",
   "metadata": {},
   "outputs": [],
   "source": [
    "cov_filters = [0.1, 0.2, 0.5, 0.9]"
   ]
  },
  {
   "cell_type": "markdown",
   "id": "d24a5e58-1b80-424e-b64c-e2971e763b61",
   "metadata": {},
   "source": [
    "Make the different slection models (the target and model does not affect the selection by CoV):"
   ]
  },
  {
   "cell_type": "code",
   "execution_count": 6,
   "id": "2612185a-476c-4298-a5f0-a574b5309d28",
   "metadata": {},
   "outputs": [],
   "source": [
    "def get_pipelines_cov(cov_filters):\n",
    "    models = dict()\n",
    "    \n",
    "    for cov_filter in cov_filters:\n",
    "        \n",
    "        steps = [\n",
    "            ('filter', CoVSelector(p = cov_filter)),\n",
    "        ]\n",
    "        models['CoV>%s' % (cov_filter)] = Pipeline(steps=steps)        \n",
    "            \n",
    "    return models"
   ]
  },
  {
   "cell_type": "code",
   "execution_count": 7,
   "id": "230a6fa0-2176-4742-9192-9e5ead7b4d35",
   "metadata": {},
   "outputs": [],
   "source": [
    "models_cov = get_pipelines_cov(cov_filters = cov_filters)"
   ]
  },
  {
   "cell_type": "markdown",
   "id": "3d05a883-ae5b-4159-b20e-f238ce23c520",
   "metadata": {
    "tags": []
   },
   "source": [
    "## Fit and inspect"
   ]
  },
  {
   "cell_type": "code",
   "execution_count": 8,
   "id": "262917b0-e778-4bdb-b367-9b4e135f4bf9",
   "metadata": {},
   "outputs": [],
   "source": [
    "#Fit models on all LOOCV splits and get the selected features \n",
    "def get_loo_selected_feature_names(pipeline, X):\n",
    "    \n",
    "    #find order of test samples left out\n",
    "    loo_order = get_loo_order(X)\n",
    "    \n",
    "    #get selected features when sample left out\n",
    "    selected_dict = dict()\n",
    "    for test_sample in loo_order:\n",
    "        \n",
    "        #fit with split data\n",
    "        X_train = X.drop(test_sample)\n",
    "        fitted = pipeline.fit(X_train)\n",
    "        \n",
    "        #get selecetions\n",
    "        selected_dict[test_sample] = fitted['filter'].get_feature_names_out()\n",
    "        \n",
    "    return selected_dict\n",
    "\n",
    "#print number of selected features and features filtered out in each CV split\n",
    "def print_loo_n_selected_features(selected_dict, original_columns):\n",
    "    print('Left out:', '\\t', 'Selected:', '\\t', 'Filtered out:', )\n",
    "    n_selected = []\n",
    "    for test_sample, selected in selected_dict.items():\n",
    "        print(test_sample, '\\t', len(selected), '\\t\\t', (len(original_columns)-len(selected)))\n",
    "        n_selected.append(len(selected))\n",
    "    print()\n",
    "    print('Min n selected:', min(n_selected))\n",
    "    print('Max n selected:', max(n_selected))"
   ]
  },
  {
   "cell_type": "code",
   "execution_count": 9,
   "id": "dded62d1-d54a-4cce-8997-7cf7e55223e8",
   "metadata": {},
   "outputs": [
    {
     "name": "stdout",
     "output_type": "stream",
     "text": [
      "--------------------------------------------------\n",
      "CoV>0.1\n",
      "--------------------------------------------------\n",
      "Left out: \t Selected: \t Filtered out:\n",
      "Acetate \t 4020 \t\t 85\n",
      "Fructose \t 4030 \t\t 75\n",
      "Galactose \t 4009 \t\t 96\n",
      "Glucose \t 4028 \t\t 77\n",
      "Glycerol \t 4048 \t\t 57\n",
      "Gluconate \t 4040 \t\t 65\n",
      "Pyruvate \t 4021 \t\t 84\n",
      "Succinate \t 4035 \t\t 70\n",
      "\n",
      "Min n selected: 4009\n",
      "Max n selected: 4048\n",
      "Intersection of selected features: \t 3843\n",
      "Union of selected features: \t\t 4068\n",
      "\n",
      "--------------------------------------------------\n",
      "CoV>0.2\n",
      "--------------------------------------------------\n",
      "Left out: \t Selected: \t Filtered out:\n",
      "Acetate \t 3050 \t\t 1055\n",
      "Fructose \t 3148 \t\t 957\n",
      "Galactose \t 2983 \t\t 1122\n",
      "Glucose \t 3169 \t\t 936\n",
      "Glycerol \t 3248 \t\t 857\n",
      "Gluconate \t 3207 \t\t 898\n",
      "Pyruvate \t 3060 \t\t 1045\n",
      "Succinate \t 3187 \t\t 918\n",
      "\n",
      "Min n selected: 2983\n",
      "Max n selected: 3248\n",
      "Intersection of selected features: \t 2412\n",
      "Union of selected features: \t\t 3366\n",
      "\n",
      "--------------------------------------------------\n",
      "CoV>0.5\n",
      "--------------------------------------------------\n",
      "Left out: \t Selected: \t Filtered out:\n",
      "Acetate \t 604 \t\t 3501\n",
      "Fructose \t 685 \t\t 3420\n",
      "Galactose \t 668 \t\t 3437\n",
      "Glucose \t 694 \t\t 3411\n",
      "Glycerol \t 763 \t\t 3342\n",
      "Gluconate \t 708 \t\t 3397\n",
      "Pyruvate \t 637 \t\t 3468\n",
      "Succinate \t 739 \t\t 3366\n",
      "\n",
      "Min n selected: 604\n",
      "Max n selected: 763\n",
      "Intersection of selected features: \t 320\n",
      "Union of selected features: \t\t 856\n",
      "\n",
      "--------------------------------------------------\n",
      "CoV>0.9\n",
      "--------------------------------------------------\n",
      "Left out: \t Selected: \t Filtered out:\n",
      "Acetate \t 102 \t\t 4003\n",
      "Fructose \t 117 \t\t 3988\n",
      "Galactose \t 107 \t\t 3998\n",
      "Glucose \t 102 \t\t 4003\n",
      "Glycerol \t 118 \t\t 3987\n",
      "Gluconate \t 101 \t\t 4004\n",
      "Pyruvate \t 117 \t\t 3988\n",
      "Succinate \t 111 \t\t 3994\n",
      "\n",
      "Min n selected: 101\n",
      "Max n selected: 118\n",
      "Intersection of selected features: \t 23\n",
      "Union of selected features: \t\t 158\n",
      "\n"
     ]
    }
   ],
   "source": [
    "#store results in a dict for each model (here threshold)\n",
    "selected_dict = dict()\n",
    "stats_dict = dict()\n",
    "for model_name, pipeline in models_cov.items():\n",
    "    #fit model and get selected features\n",
    "    selected = get_loo_selected_feature_names(pipeline, X)\n",
    "    selected_dict[model_name] = selected\n",
    "    \n",
    "    #get intersection and union of selected features\n",
    "    stats = get_selected_features_intersection_and_union(selected)\n",
    "    stats_dict[model_name] = stats\n",
    "    \n",
    "    #print information\n",
    "    print('--------------------------------------------------')\n",
    "    print(model_name)\n",
    "    print('--------------------------------------------------')\n",
    "    print_loo_n_selected_features(selected, X.columns)\n",
    "    print('Intersection of selected features: \\t', len(stats['intersection']))\n",
    "    print('Union of selected features: \\t\\t', len(stats['union']))\n",
    "    print()"
   ]
  }
 ],
 "metadata": {
  "kernelspec": {
   "display_name": "Python 3 (ipykernel)",
   "language": "python",
   "name": "python3"
  },
  "language_info": {
   "codemirror_mode": {
    "name": "ipython",
    "version": 3
   },
   "file_extension": ".py",
   "mimetype": "text/x-python",
   "name": "python",
   "nbconvert_exporter": "python",
   "pygments_lexer": "ipython3",
   "version": "3.8.8"
  }
 },
 "nbformat": 4,
 "nbformat_minor": 5
}
