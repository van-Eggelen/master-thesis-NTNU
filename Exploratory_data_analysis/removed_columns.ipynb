{
 "cells": [
  {
   "cell_type": "markdown",
   "id": "2dd2a741-e970-4ed4-aebe-cdffdcca04cd",
   "metadata": {},
   "source": [
    "# Redundant and unfit columns removed before analysis"
   ]
  },
  {
   "cell_type": "code",
   "execution_count": 1,
   "id": "b606c278-8c52-4aec-a942-35efbc7fbfb6",
   "metadata": {},
   "outputs": [],
   "source": [
    "#import libraries\n",
    "import pandas as pd\n",
    "from IPython.display import display"
   ]
  },
  {
   "cell_type": "code",
   "execution_count": 2,
   "id": "ab0d91de-4132-4134-a1ae-a6e9fe05c2f4",
   "metadata": {},
   "outputs": [],
   "source": [
    "#import self-made functions\n",
    "%run '/Users/mariekececilia/Documents/master_thesis_code/methods.ipynb'"
   ]
  },
  {
   "cell_type": "markdown",
   "id": "74daeecc-665e-49a6-aee7-f07a385c73ac",
   "metadata": {},
   "source": [
    "## Load data"
   ]
  },
  {
   "cell_type": "code",
   "execution_count": 3,
   "id": "47635723-b448-441b-bedd-c8927deb9618",
   "metadata": {},
   "outputs": [],
   "source": [
    "[gexp_g, flux_g] = load_gerosa()\n",
    "[gexp_i, flux_i] = load_ishii()\n",
    "\n",
    "#split Ishii into growth rate samples and knock-out samples, both containing the baseline\n",
    "[gexp_i_gr, gexp_i_ko] = split_ishii(gexp_i)\n",
    "[flux_i_gr, flux_i_ko] = split_ishii(flux_i)"
   ]
  },
  {
   "cell_type": "markdown",
   "id": "f88d03d6-81f7-4c48-93c1-605b5530a883",
   "metadata": {},
   "source": [
    "## Duplicated genes"
   ]
  },
  {
   "cell_type": "markdown",
   "id": "68140c6d-842e-460e-84c7-11748d7389dc",
   "metadata": {},
   "source": [
    "These genes are removed before analysing the Gerosa transcriptomic data because they were duplicates of others: "
   ]
  },
  {
   "cell_type": "code",
   "execution_count": 4,
   "id": "10c25274-c7f3-4293-8f28-ad3bef02fcce",
   "metadata": {},
   "outputs": [
    {
     "name": "stdout",
     "output_type": "stream",
     "text": [
      "Gene kept: List of duplicates of that gene (removed)\n",
      "b0016 : ['b0582', 'b2394']\n",
      "b0021 : ['b0264', 'b0274', 'b0988', 'b1893', 'b3445', 'b4576']\n",
      "b0022 : ['b0265', 'b0275', 'b1894', 'b3444', 'b4294', 'b4516']\n",
      "b0256 : ['b1404', 'b4284']\n",
      "b0259 : ['b0552', 'b0656', 'b1331', 'b1370', 'b1994', 'b2030', 'b2192', 'b2982', 'b3218', 'b3505']\n",
      "b0298 : ['b0373', 'b0540', 'b1027', 'b2088']\n",
      "b0299 : ['b0372', 'b0541', 'b1026', 'b2089']\n",
      "b0360 : ['b1403', 'b1997', 'b2861', 'b3044', 'b4272']\n",
      "b0361 : ['b1402', 'b1578', 'b1996', 'b2860', 'b3045', 'b4273']\n",
      "\n",
      "New Gerosa shape after removing duplicated genes: (8, 4105)\n"
     ]
    }
   ],
   "source": [
    "#only relevant for gerosa\n",
    "gexp_g_clean, gexp_g_groups = clean_gexp_g(gexp_g)\n",
    "print('Gene kept: List of duplicates of that gene (removed)')\n",
    "for (key, value) in sorted(gexp_g_groups.items()):print (key, ':', sorted(value))\n",
    "print('\\nNew Gerosa shape after removing duplicated genes:', (gexp_g_clean.shape))"
   ]
  },
  {
   "cell_type": "code",
   "execution_count": 5,
   "id": "594f994d-0bb9-4c39-b479-277fb570bad8",
   "metadata": {
    "tags": []
   },
   "outputs": [
    {
     "data": {
      "text/html": [
       "<div>\n",
       "<style scoped>\n",
       "    .dataframe tbody tr th:only-of-type {\n",
       "        vertical-align: middle;\n",
       "    }\n",
       "\n",
       "    .dataframe tbody tr th {\n",
       "        vertical-align: top;\n",
       "    }\n",
       "\n",
       "    .dataframe thead th {\n",
       "        text-align: right;\n",
       "    }\n",
       "</style>\n",
       "<table border=\"1\" class=\"dataframe\">\n",
       "  <thead>\n",
       "    <tr style=\"text-align: right;\">\n",
       "      <th></th>\n",
       "      <th>b0016</th>\n",
       "      <th>b0021</th>\n",
       "      <th>b0022</th>\n",
       "      <th>b0256</th>\n",
       "      <th>b0259</th>\n",
       "      <th>b0298</th>\n",
       "      <th>b0299</th>\n",
       "      <th>b0360</th>\n",
       "      <th>b0361</th>\n",
       "    </tr>\n",
       "  </thead>\n",
       "  <tbody>\n",
       "    <tr>\n",
       "      <th>Acetate</th>\n",
       "      <td>1.314951</td>\n",
       "      <td>1.125086</td>\n",
       "      <td>1.638320</td>\n",
       "      <td>0.680694</td>\n",
       "      <td>1.278149</td>\n",
       "      <td>0.594961</td>\n",
       "      <td>1.238808</td>\n",
       "      <td>1.255381</td>\n",
       "      <td>1.542338</td>\n",
       "    </tr>\n",
       "    <tr>\n",
       "      <th>Fructose</th>\n",
       "      <td>1.275108</td>\n",
       "      <td>0.999305</td>\n",
       "      <td>1.289501</td>\n",
       "      <td>0.841097</td>\n",
       "      <td>1.758984</td>\n",
       "      <td>0.631862</td>\n",
       "      <td>1.177093</td>\n",
       "      <td>0.927827</td>\n",
       "      <td>1.606869</td>\n",
       "    </tr>\n",
       "    <tr>\n",
       "      <th>Galactose</th>\n",
       "      <td>0.488257</td>\n",
       "      <td>1.000691</td>\n",
       "      <td>0.937356</td>\n",
       "      <td>0.820167</td>\n",
       "      <td>0.965585</td>\n",
       "      <td>1.160709</td>\n",
       "      <td>1.145474</td>\n",
       "      <td>1.228643</td>\n",
       "      <td>2.643263</td>\n",
       "    </tr>\n",
       "    <tr>\n",
       "      <th>Glucose</th>\n",
       "      <td>1.109477</td>\n",
       "      <td>0.940218</td>\n",
       "      <td>0.899922</td>\n",
       "      <td>1.388808</td>\n",
       "      <td>0.605762</td>\n",
       "      <td>1.197898</td>\n",
       "      <td>1.138902</td>\n",
       "      <td>0.931399</td>\n",
       "      <td>0.778949</td>\n",
       "    </tr>\n",
       "    <tr>\n",
       "      <th>Glycerol</th>\n",
       "      <td>0.740964</td>\n",
       "      <td>1.005713</td>\n",
       "      <td>0.979062</td>\n",
       "      <td>1.136949</td>\n",
       "      <td>0.831388</td>\n",
       "      <td>1.120681</td>\n",
       "      <td>0.935446</td>\n",
       "      <td>0.959269</td>\n",
       "      <td>0.901328</td>\n",
       "    </tr>\n",
       "    <tr>\n",
       "      <th>Gluconate</th>\n",
       "      <td>0.980570</td>\n",
       "      <td>1.034540</td>\n",
       "      <td>1.005674</td>\n",
       "      <td>1.069269</td>\n",
       "      <td>0.657964</td>\n",
       "      <td>0.993425</td>\n",
       "      <td>1.151898</td>\n",
       "      <td>1.000238</td>\n",
       "      <td>0.629261</td>\n",
       "    </tr>\n",
       "    <tr>\n",
       "      <th>Pyruvate</th>\n",
       "      <td>1.480496</td>\n",
       "      <td>1.375829</td>\n",
       "      <td>1.889096</td>\n",
       "      <td>0.464329</td>\n",
       "      <td>1.473283</td>\n",
       "      <td>0.802093</td>\n",
       "      <td>0.932664</td>\n",
       "      <td>1.059628</td>\n",
       "      <td>1.269821</td>\n",
       "    </tr>\n",
       "    <tr>\n",
       "      <th>Succinate</th>\n",
       "      <td>0.952453</td>\n",
       "      <td>0.821619</td>\n",
       "      <td>0.686124</td>\n",
       "      <td>1.070448</td>\n",
       "      <td>1.203760</td>\n",
       "      <td>0.972243</td>\n",
       "      <td>0.837042</td>\n",
       "      <td>0.912354</td>\n",
       "      <td>0.666947</td>\n",
       "    </tr>\n",
       "  </tbody>\n",
       "</table>\n",
       "</div>"
      ],
      "text/plain": [
       "              b0016     b0021     b0022     b0256     b0259     b0298  \\\n",
       "Acetate    1.314951  1.125086  1.638320  0.680694  1.278149  0.594961   \n",
       "Fructose   1.275108  0.999305  1.289501  0.841097  1.758984  0.631862   \n",
       "Galactose  0.488257  1.000691  0.937356  0.820167  0.965585  1.160709   \n",
       "Glucose    1.109477  0.940218  0.899922  1.388808  0.605762  1.197898   \n",
       "Glycerol   0.740964  1.005713  0.979062  1.136949  0.831388  1.120681   \n",
       "Gluconate  0.980570  1.034540  1.005674  1.069269  0.657964  0.993425   \n",
       "Pyruvate   1.480496  1.375829  1.889096  0.464329  1.473283  0.802093   \n",
       "Succinate  0.952453  0.821619  0.686124  1.070448  1.203760  0.972243   \n",
       "\n",
       "              b0299     b0360     b0361  \n",
       "Acetate    1.238808  1.255381  1.542338  \n",
       "Fructose   1.177093  0.927827  1.606869  \n",
       "Galactose  1.145474  1.228643  2.643263  \n",
       "Glucose    1.138902  0.931399  0.778949  \n",
       "Glycerol   0.935446  0.959269  0.901328  \n",
       "Gluconate  1.151898  1.000238  0.629261  \n",
       "Pyruvate   0.932664  1.059628  1.269821  \n",
       "Succinate  0.837042  0.912354  0.666947  "
      ]
     },
     "execution_count": 5,
     "metadata": {},
     "output_type": "execute_result"
    }
   ],
   "source": [
    "#Gene expression of the genes with duplicates:\n",
    "gexp_g[sorted(gexp_g_groups.keys())]"
   ]
  },
  {
   "cell_type": "markdown",
   "id": "fd412014-82fd-4552-825f-d501e4c97271",
   "metadata": {},
   "source": [
    "No duplicated genes were found in the Ishii data and the same holds for the subsets:"
   ]
  },
  {
   "cell_type": "code",
   "execution_count": 6,
   "id": "75b8f4e5-dc05-480f-bee8-3823ad0ee4db",
   "metadata": {},
   "outputs": [
    {
     "name": "stdout",
     "output_type": "stream",
     "text": [
      "(0, 79)\n",
      "(0, 79)\n"
     ]
    }
   ],
   "source": [
    "print(gexp_i_gr[gexp_i_gr.duplicated(keep = False)].shape)\n",
    "print(gexp_i_ko[gexp_i_ko.duplicated(keep = False)].shape)"
   ]
  },
  {
   "cell_type": "markdown",
   "id": "08137e04-6019-488c-9de2-27cb31e9fc33",
   "metadata": {
    "tags": []
   },
   "source": [
    "## Duplicated (redundant) reactions"
   ]
  },
  {
   "cell_type": "code",
   "execution_count": 7,
   "id": "cb671e52-3bfa-4d68-a661-2cf5ed8814b0",
   "metadata": {},
   "outputs": [
    {
     "name": "stdout",
     "output_type": "stream",
     "text": [
      "Gerosa groups (reaction : its duplicates)\n",
      "R_ACONTa : ['R_ACONTb', 'R_CS']\n",
      "R_AKGDH : ['R_SUCOAS']\n",
      "R_EDA : ['R_EDD']\n",
      "R_ENO : ['R_PGM']\n",
      "R_G6PDH2r : ['R_PGL']\n",
      "R_GAPD : ['R_PGK']\n",
      "R_ICL : ['R_MALS']\n",
      "R_TALA : ['R_TKT1']\n",
      "\n",
      "Ishii GR groups (reaction : its duplicates)\n",
      "R_ACALD : ['R_ALCD2x']\n",
      "R_ACKr : ['R_PTAr']\n",
      "R_ACONTa : ['R_ACONTb', 'R_CS']\n",
      "R_AKGDH : ['R_SUCOAS']\n",
      "R_ENO : ['R_PGM']\n",
      "R_EX_glc_e : ['R_GLCptspp']\n",
      "R_EX_lac_D_e : ['R_EX_succ_e', 'R_LDH_D']\n",
      "R_FBA : ['R_PFK', 'R_TPI']\n",
      "R_FUM : ['R_SUCDi']\n",
      "R_G6PDH2r : ['R_GND', 'R_PGL']\n",
      "R_GAPD : ['R_PGK']\n",
      "R_ICL : ['R_MALS']\n",
      "R_TALA : ['R_TKT1']\n",
      "\n",
      "Ishii KO groups (reaction : its duplicates)\n",
      "R_ACALD : ['R_ALCD2x']\n",
      "R_ACKr : ['R_EX_ac_e', 'R_EX_lac_D_e', 'R_EX_pyr_e', 'R_LDH_D', 'R_PTAr']\n",
      "R_ACONTa : ['R_ACONTb', 'R_CS']\n",
      "R_AKGDH : ['R_SUCOAS']\n",
      "R_ENO : ['R_PGM']\n",
      "R_EX_for_e : ['R_EX_succ_e']\n",
      "R_EX_glc_e : ['R_GLCptspp']\n",
      "R_FBA : ['R_PFK', 'R_TPI']\n",
      "R_FUM : ['R_SUCDi']\n",
      "R_GAPD : ['R_PGK']\n",
      "R_GND : ['R_PGL']\n",
      "R_ICL : ['R_MALS']\n",
      "R_TALA : ['R_TKT1']\n"
     ]
    }
   ],
   "source": [
    "#identify reactions with equal or mirrored measurments\n",
    "g_equal_dict = get_equal_or_mirrored_groups(flux_g)\n",
    "\n",
    "#might differ between ishii subsets\n",
    "i_gr_equal_dict = get_equal_or_mirrored_groups(flux_i_gr)\n",
    "i_ko_equal_dict = get_equal_or_mirrored_groups(flux_i_ko)\n",
    "\n",
    "#print result\n",
    "print('Gerosa groups (reaction : its duplicates)')\n",
    "for (key, value) in sorted(g_equal_dict.items()):print (key, ':', sorted(value))\n",
    "print('\\nIshii GR groups (reaction : its duplicates)')\n",
    "for (key, value) in sorted(i_gr_equal_dict.items()):print (key, ':', sorted(value))\n",
    "print('\\nIshii KO groups (reaction : its duplicates)')\n",
    "for (key, value) in sorted(i_ko_equal_dict.items()):print (key, ':', sorted(value))"
   ]
  },
  {
   "cell_type": "markdown",
   "id": "5dadf887-621f-40e4-a2b1-f7e401b77c40",
   "metadata": {},
   "source": [
    "--> Here we see that \n",
    "- In both Ishii subsets, R_GLCptspp have the same (or mirrored) measurments as R_EX_glc_e, which makes sense since it transports glucose over the periplasm. It is thus also considered an external reaction here, and will be removed with the exchange reactions. \n",
    "- In both Ishii subsets, R_LDH_D have the same measurments as R_EX_lac_D_e. R_LDH_D is not a transporter, but it is connected to the export of lactate because it produces lactate from puryvate. The inspection showed that both reactions are in fact 0 for all measurments, so R_LDH_D will be removed due to constant values etiher way. "
   ]
  },
  {
   "cell_type": "markdown",
   "id": "8fc078dc-812f-428a-aeae-6bee0c9e1aad",
   "metadata": {},
   "source": [
    "### Disagreement of duplicates"
   ]
  },
  {
   "cell_type": "code",
   "execution_count": 8,
   "id": "a4e86b51-36be-4aa3-8e0a-725af581889a",
   "metadata": {},
   "outputs": [
    {
     "name": "stdout",
     "output_type": "stream",
     "text": [
      "------------------\n",
      "Gerosa vs Ishii GR\n",
      "------------------\n",
      "Gerosa groups:\n",
      "R_ACONTa : ['R_ACONTb', 'R_CS']\n",
      "R_AKGDH : ['R_SUCOAS']\n",
      "R_ENO : ['R_PGM']\n",
      "R_G6PDH2r : ['R_PGL']\n",
      "R_GAPD : ['R_PGK']\n",
      "R_TALA : ['R_TKT1']\n",
      "\n",
      "Ishii GR groups:\n",
      "R_ACONTa : ['R_ACONTb', 'R_CS']\n",
      "R_AKGDH : ['R_SUCOAS']\n",
      "R_ENO : ['R_PGM']\n",
      "R_FBA : ['R_TPI']\n",
      "R_FUM : ['R_SUCDi']\n",
      "R_G6PDH2r : ['R_GND', 'R_PGL']\n",
      "R_GAPD : ['R_PGK']\n",
      "R_TALA : ['R_TKT1']\n",
      "\n",
      "------------------\n",
      "Gerosa vs Ishii KO\n",
      "------------------\n",
      "Gerosa groups:\n",
      "R_ACONTa : ['R_ACONTb', 'R_CS']\n",
      "R_AKGDH : ['R_SUCOAS']\n",
      "R_ENO : ['R_PGM']\n",
      "R_G6PDH2r : ['R_PGL']\n",
      "R_GAPD : ['R_PGK']\n",
      "R_ICL : ['R_MALS']\n",
      "R_TALA : ['R_TKT1']\n",
      "\n",
      "Ishii KO groups:\n",
      "R_ACONTa : ['R_ACONTb', 'R_CS']\n",
      "R_AKGDH : ['R_SUCOAS']\n",
      "R_ENO : ['R_PGM']\n",
      "R_FBA : ['R_TPI']\n",
      "R_FUM : ['R_SUCDi']\n",
      "R_GAPD : ['R_PGK']\n",
      "R_GND : ['R_PGL']\n",
      "R_ICL : ['R_MALS']\n",
      "R_TALA : ['R_TKT1']\n"
     ]
    }
   ],
   "source": [
    "#Intersection of internal, non-constant reactions with enough non-null entries\n",
    "intersection_gr = get_intersection(remove_ex_constant_zero(flux_g), remove_ex_constant_zero(flux_i_gr))\n",
    "intersection_ko = get_intersection(remove_ex_constant_zero(flux_g), remove_ex_constant_zero(flux_i_ko))\n",
    "\n",
    "#identify duplicates among the reactions in the intersection\n",
    "#..of gerosa and ishii gr\n",
    "g_gr_equal_dict_intersection = get_equal_or_mirrored_groups(flux_g[intersection_gr])\n",
    "i_gr_equal_dict_intersection = get_equal_or_mirrored_groups(flux_i_gr[intersection_gr])\n",
    "#..of gerosa and ishii ko\n",
    "g_ko_equal_dict_intersection = get_equal_or_mirrored_groups(flux_g[intersection_ko])\n",
    "i_ko_equal_dict_intersection = get_equal_or_mirrored_groups(flux_i_ko[intersection_ko])\n",
    "\n",
    "#print result\n",
    "print('------------------')\n",
    "print('Gerosa vs Ishii GR')\n",
    "print('------------------')\n",
    "print('Gerosa groups:')\n",
    "for (key, value) in sorted(g_gr_equal_dict_intersection.items()):print (key, ':', sorted(value))\n",
    "print('\\nIshii GR groups:')\n",
    "for (key, value) in sorted(i_gr_equal_dict_intersection.items()):print (key, ':', sorted(value))\n",
    "\n",
    "print('\\n------------------')\n",
    "print('Gerosa vs Ishii KO')\n",
    "print('------------------')\n",
    "print('Gerosa groups:')\n",
    "for (key, value) in sorted(g_ko_equal_dict_intersection.items()):print (key, ':', sorted(value))\n",
    "print('\\nIshii KO groups:')\n",
    "for (key, value) in sorted(i_ko_equal_dict_intersection.items()):print (key, ':', sorted(value))"
   ]
  },
  {
   "cell_type": "markdown",
   "id": "aea96219-9302-4044-a820-19e5feeb5f4d",
   "metadata": {},
   "source": [
    "Manual inspection (see more below) shows that they agree on the groups in the intersection, except: \n",
    "- G6PDH2r, PGL and GND\n",
    "    - Gerosa group PGL with G6PDH2r (and not GND), GND differs from the others in most samples\n",
    "    - Ishii GR group PGL with G6PDH2r and GND\n",
    "    - Ishii KO group PGL with GND (and not G6PDH2r), but G6PDH2r is equal for all observations but pgi, rpiA, tktA\n",
    "- FUM and SUCDi\n",
    "    - Ishii (both subsets) : equal for all observations\n",
    "    - Gerosa: equal for all observations but Succinate\n",
    "- FBA and TPI\n",
    "    - Ishii (both subsets) : equal for all observations\n",
    "    - Gerosa: FBA and TPI are equal for all observations but Glycerol"
   ]
  },
  {
   "cell_type": "markdown",
   "id": "6a094002-cc4f-48b3-8cd1-ba656c565253",
   "metadata": {},
   "source": [
    "#### Duplicates in both datasets"
   ]
  },
  {
   "cell_type": "code",
   "execution_count": 9,
   "id": "9c90c219-8fcd-4818-bcfb-650a1fd58a1c",
   "metadata": {},
   "outputs": [],
   "source": [
    "#from manual inspection:\n",
    "common_duplicates_gr = ['R_ACONTb', 'R_CS', 'R_SUCOAS', 'R_PGM',\n",
    "                    'R_PGL', #common in ishii GR and gerosa only\n",
    "                    'R_PGK', \n",
    "                    'R_TKT1']\n",
    "\n",
    "common_duplicates_ko = ['R_ACONTb', 'R_CS', 'R_SUCOAS', 'R_PGM',\n",
    "                    'R_PGK', \n",
    "                    'R_MALS', #not in ishii GR intersection (too many null-entries)\n",
    "                    'R_TKT1']"
   ]
  },
  {
   "cell_type": "markdown",
   "id": "f61c93ce-65c5-4ae9-8375-a2e5cd25a591",
   "metadata": {},
   "source": [
    "#### Conflicting duplicates"
   ]
  },
  {
   "cell_type": "code",
   "execution_count": 10,
   "id": "204258d4-2ee6-458c-9de4-3663dedc3be8",
   "metadata": {},
   "outputs": [
    {
     "name": "stdout",
     "output_type": "stream",
     "text": [
      "Difference of R_PGL and GND in Gerosa:\n"
     ]
    },
    {
     "data": {
      "text/plain": [
       "Acetate      8.215938e-01\n",
       "Fructose     1.000000e-09\n",
       "Galactose    1.729721e-01\n",
       "Glucose      1.086991e+00\n",
       "Glycerol     1.458035e-02\n",
       "Gluconate    1.464963e+00\n",
       "Pyruvate     3.000000e-09\n",
       "Succinate    6.554642e-01\n",
       "dtype: float64"
      ]
     },
     "metadata": {},
     "output_type": "display_data"
    },
    {
     "name": "stdout",
     "output_type": "stream",
     "text": [
      "\n",
      "Difference of PGL and G6PDH2r in Ishii:\n"
     ]
    },
    {
     "data": {
      "text/plain": [
       "pgi     1.0101\n",
       "rpiA    0.6042\n",
       "tktA    0.5837\n",
       "dtype: float64"
      ]
     },
     "metadata": {},
     "output_type": "display_data"
    },
    {
     "name": "stdout",
     "output_type": "stream",
     "text": [
      "\n",
      "Difference of FBA and TPI in Gerosa:\n"
     ]
    },
    {
     "data": {
      "text/plain": [
       "Glycerol    10.136\n",
       "dtype: float64"
      ]
     },
     "metadata": {},
     "output_type": "display_data"
    },
    {
     "name": "stdout",
     "output_type": "stream",
     "text": [
      "\n",
      "Difference of FUM and SUCDi in Gerosa:\n"
     ]
    },
    {
     "data": {
      "text/plain": [
       "Succinate    1.139998\n",
       "dtype: float64"
      ]
     },
     "metadata": {},
     "output_type": "display_data"
    }
   ],
   "source": [
    "print('Difference of R_PGL and GND in Gerosa:')\n",
    "diff = (flux_g['R_PGL']-flux_g['R_GND']).abs()\n",
    "display(diff[diff!=0])\n",
    "\n",
    "print('\\nDifference of PGL and G6PDH2r in Ishii:')\n",
    "diff = ((flux_i['R_PGL']-flux_i['R_G6PDH2r']).abs())\n",
    "display(diff[diff!=0])\n",
    "\n",
    "print('\\nDifference of FBA and TPI in Gerosa:')\n",
    "diff = ((flux_g['R_FBA']-flux_g['R_TPI']).abs())\n",
    "display(diff[diff!=0])\n",
    "\n",
    "print('\\nDifference of FUM and SUCDi in Gerosa:')\n",
    "diff = ((flux_g['R_FUM']-flux_g['R_SUCDi']).abs())\n",
    "display(diff[diff!=0])"
   ]
  },
  {
   "cell_type": "markdown",
   "id": "768bd3f4-ea27-4565-b157-be14856694fb",
   "metadata": {},
   "source": [
    "## Unfit reactions removed"
   ]
  },
  {
   "cell_type": "markdown",
   "id": "91e3ef9d-3f0e-4ffa-8360-d29e203cfd6d",
   "metadata": {
    "tags": []
   },
   "source": [
    "### External reactions"
   ]
  },
  {
   "cell_type": "code",
   "execution_count": 11,
   "id": "385c4173-b623-4c55-bb7a-be687e617f74",
   "metadata": {},
   "outputs": [
    {
     "name": "stdout",
     "output_type": "stream",
     "text": [
      "Gerosa: ['R_EX_ac_e', 'R_EX_fru_e', 'R_EX_fum_e', 'R_EX_gal_e', 'R_EX_glc_e', 'R_EX_glcn_e', 'R_EX_glyc_e', 'R_EX_lac_D_e', 'R_EX_pyr_e', 'R_EX_succ_e']\n",
      "Ishii (both subsets): ['R_EX_ac_e', 'R_EX_co2_e', 'R_EX_etoh_e', 'R_EX_for_e', 'R_EX_glc_e', 'R_EX_lac_D_e', 'R_EX_o2_e', 'R_EX_pyr_e', 'R_EX_succ_e', 'R_GLCptspp']\n"
     ]
    }
   ],
   "source": [
    "#get list of exchange reactions (with _EX_ in name)        \n",
    "g_ex = get_ex(flux_g)\n",
    "i_ex = get_ex(flux_i)\n",
    "\n",
    "#summary\n",
    "print('Gerosa:', sorted(g_ex))\n",
    "print('Ishii (both subsets):', sorted(i_ex) + ['R_GLCptspp'])"
   ]
  },
  {
   "cell_type": "markdown",
   "id": "a455e0c5-52aa-48dc-abc5-3bc92e18ffe6",
   "metadata": {},
   "source": [
    "### Constant reactions"
   ]
  },
  {
   "cell_type": "code",
   "execution_count": 12,
   "id": "a56e7adb-5d2a-47b8-8ae6-54109fa60c04",
   "metadata": {},
   "outputs": [
    {
     "name": "stdout",
     "output_type": "stream",
     "text": [
      "Gerosa: []\n",
      "Ishii GR: ['R_EX_lac_D_e', 'R_EX_succ_e', 'R_LDH_D']\n",
      "Ishii KO: ['R_EX_lac_D_e', 'R_EX_succ_e', 'R_LDH_D']\n"
     ]
    }
   ],
   "source": [
    "#identify constant reactions\n",
    "g_constant = flux_g.nunique()[flux_g.nunique() == 1].index.tolist()\n",
    "\n",
    "#might be different for the different ishii subsets\n",
    "i_gr_constant = flux_i_gr.nunique()[flux_i_gr.nunique() == 1].index.tolist()\n",
    "i_ko_constant = flux_i_ko.nunique()[flux_i_ko.nunique() == 1].index.tolist()\n",
    "\n",
    "print('Gerosa:', sorted(g_constant))\n",
    "print('Ishii GR:', sorted(i_gr_constant))\n",
    "print('Ishii KO:', sorted(i_gr_constant))"
   ]
  },
  {
   "cell_type": "markdown",
   "id": "901ec5f0-c9c5-4aac-ba09-91aeeb776fa4",
   "metadata": {
    "tags": []
   },
   "source": [
    "### Reactions that are mostly zero"
   ]
  },
  {
   "cell_type": "code",
   "execution_count": 13,
   "id": "82688aaa-86dc-459b-994a-df80fe291514",
   "metadata": {},
   "outputs": [
    {
     "name": "stdout",
     "output_type": "stream",
     "text": [
      "Gerosa: ['R_EX_fru_e', 'R_EX_gal_e', 'R_EX_glc_e', 'R_EX_glcn_e', 'R_EX_glyc_e', 'R_EX_lac_D_e', 'R_EX_pyr_e', 'R_EX_succ_e']\n",
      "Ishii GR: ['R_ACKr', 'R_EX_etoh_e', 'R_EX_for_e', 'R_EX_lac_D_e', 'R_EX_pyr_e', 'R_EX_succ_e', 'R_ICL', 'R_LDH_D', 'R_MALS', 'R_ME2', 'R_PTAr']\n",
      "Ishii KO: ['R_ACALD', 'R_ACKr', 'R_ALCD2x', 'R_EX_ac_e', 'R_EX_etoh_e', 'R_EX_for_e', 'R_EX_lac_D_e', 'R_EX_pyr_e', 'R_EX_succ_e', 'R_LDH_D', 'R_ME2', 'R_PTAr']\n"
     ]
    }
   ],
   "source": [
    "#identify reactions where more than half the entries are zero\n",
    "g_mostly_zero = get_mostly_zero(flux_g)\n",
    "\n",
    "#might be different for the different ishii subsets\n",
    "i_gr_mostly_zero = get_mostly_zero(flux_i_gr)\n",
    "i_ko_mostly_zero = get_mostly_zero(flux_i_ko)\n",
    "\n",
    "print('Gerosa:', sorted(g_mostly_zero))\n",
    "print('Ishii GR:', sorted(i_gr_mostly_zero))\n",
    "print('Ishii KO:', sorted(i_ko_mostly_zero))"
   ]
  },
  {
   "cell_type": "markdown",
   "id": "e2978b9e-9fe3-450d-bb17-c3e64b7716b9",
   "metadata": {},
   "source": [
    "## Reactions used in analysis of individual datasets"
   ]
  },
  {
   "cell_type": "markdown",
   "id": "9f3cb003-172e-4f7c-8299-49c5ea528ba7",
   "metadata": {},
   "source": [
    "Overview of which reactions were used in the exploratory analysis. Duplicates were not included, but are listed here to show which other reactions would give the same results. Since Gerosa and Ishii do not agree on all duplications in the intersection, only reactions who are duplicated in both datasets were removed when comparing the correlations of gene-reaction pairs (see next section)."
   ]
  },
  {
   "cell_type": "code",
   "execution_count": 14,
   "id": "b2a19494-5a59-4f27-bb0e-24916cead47e",
   "metadata": {},
   "outputs": [
    {
     "name": "stdout",
     "output_type": "stream",
     "text": [
      "Gerosa (21 reactions):\n",
      "R_ACONTa – duplicate of ['R_ACONTb', 'R_CS']\n",
      "R_AKGDH – duplicate of ['R_SUCOAS']\n",
      "R_EDA – duplicate of ['R_EDD']\n",
      "R_ENO – duplicate of ['R_PGM']\n",
      "R_FBA\n",
      "R_FUM\n",
      "R_G6PDH2r – duplicate of ['R_PGL']\n",
      "R_GAPD – duplicate of ['R_PGK']\n",
      "R_GND\n",
      "R_ICDHyr\n",
      "R_ICL – duplicate of ['R_MALS']\n",
      "R_PDH\n",
      "R_PGI\n",
      "R_PPC\n",
      "R_PPCK\n",
      "R_RPE\n",
      "R_RPI\n",
      "R_SUCDi\n",
      "R_TALA – duplicate of ['R_TKT1']\n",
      "R_TKT2\n",
      "R_TPI\n",
      "\n",
      "Ishii GR (18 reactions):\n",
      "R_ACALD – duplicate of ['R_ALCD2x']\n",
      "R_ACONTa – duplicate of ['R_ACONTb', 'R_CS']\n",
      "R_AKGDH – duplicate of ['R_SUCOAS']\n",
      "R_ENO – duplicate of ['R_PGM']\n",
      "R_FBA – duplicate of ['R_PFK', 'R_TPI']\n",
      "R_FUM – duplicate of ['R_SUCDi']\n",
      "R_G6PDH2r – duplicate of ['R_GND', 'R_PGL']\n",
      "R_GAPD – duplicate of ['R_PGK']\n",
      "R_ICDHyr\n",
      "R_MDH\n",
      "R_PDH\n",
      "R_PGI\n",
      "R_PPC\n",
      "R_PYK\n",
      "R_RPE\n",
      "R_RPI\n",
      "R_TALA – duplicate of ['R_TKT1']\n",
      "R_TKT2\n",
      "\n",
      "Ishii KO (19 reactions):\n",
      "R_ACONTa – duplicate of ['R_ACONTb', 'R_CS']\n",
      "R_AKGDH – duplicate of ['R_SUCOAS']\n",
      "R_ENO – duplicate of ['R_PGM']\n",
      "R_FBA – duplicate of ['R_PFK', 'R_TPI']\n",
      "R_FUM – duplicate of ['R_SUCDi']\n",
      "R_G6PDH2r\n",
      "R_GAPD – duplicate of ['R_PGK']\n",
      "R_GND – duplicate of ['R_PGL']\n",
      "R_ICDHyr\n",
      "R_ICL – duplicate of ['R_MALS']\n",
      "R_MDH\n",
      "R_PDH\n",
      "R_PGI\n",
      "R_PPC\n",
      "R_PYK\n",
      "R_RPE\n",
      "R_RPI\n",
      "R_TALA – duplicate of ['R_TKT1']\n",
      "R_TKT2\n"
     ]
    }
   ],
   "source": [
    "flux_g_cleaned, flux_g_groups = clean_gerosa(flux_g)\n",
    "flux_i_gr_cleaned, flux_i_gr_groups = clean_ishii(flux_i_gr)\n",
    "flux_i_ko_cleaned, flux_i_ko_groups = clean_ishii(flux_i_ko)\n",
    "\n",
    "print('Gerosa (%s reactions):' % len(flux_g_cleaned.columns))\n",
    "for gene in sorted(flux_g_cleaned.columns):\n",
    "    if gene in flux_g_groups:\n",
    "        print(gene, \"– duplicate of\" ,sorted(flux_g_groups[gene]))\n",
    "    else:\n",
    "        print(gene)\n",
    "\n",
    "print('\\nIshii GR (%s reactions):' % len(flux_i_gr_cleaned.columns))\n",
    "for gene in sorted(flux_i_gr_cleaned.columns):\n",
    "    if gene in flux_i_gr_groups:\n",
    "        print(gene, \"– duplicate of\" ,sorted(flux_i_gr_groups[gene]))\n",
    "    else:\n",
    "        print(gene)\n",
    "        \n",
    "print('\\nIshii KO (%s reactions):' % len(flux_i_ko_cleaned.columns))\n",
    "for gene in sorted(flux_i_ko_cleaned.columns):\n",
    "    if gene in flux_i_ko_groups:\n",
    "        print(gene, \"– duplicate of\" ,sorted(flux_i_ko_groups[gene]))\n",
    "    else:\n",
    "        print(gene)"
   ]
  },
  {
   "cell_type": "markdown",
   "id": "e6d3e96e-e403-4932-8ff6-be92c430a13f",
   "metadata": {
    "tags": []
   },
   "source": [
    "## Reactions used in analysis of intersection of datasets"
   ]
  },
  {
   "cell_type": "markdown",
   "id": "a112e766-c71e-48c7-a3aa-4e87e79a4aa2",
   "metadata": {},
   "source": [
    "Since Gerosa and Ishii do not agree on all duplications in the intersection, only reactions who are duplicated in both datasets were removed when comparing the correlations of gene-reaction pairs. Some of the reactions listed below are thus redundant when considering only one of the datasets (the reaction gives the same correlation for all possible gene-reaction pairs, but only in one of the datasets). "
   ]
  },
  {
   "cell_type": "code",
   "execution_count": 15,
   "id": "5bf6990a-e5f4-4bf5-a898-4c8b16107637",
   "metadata": {},
   "outputs": [
    {
     "name": "stdout",
     "output_type": "stream",
     "text": [
      "Gerosa vs Ishii GR:\n",
      "R_ACONTa\n",
      "R_AKGDH\n",
      "R_ENO\n",
      "R_FBA\n",
      "R_FUM\n",
      "R_G6PDH2r\n",
      "R_GAPD\n",
      "R_GND\n",
      "R_ICDHyr\n",
      "R_PDH\n",
      "R_PGI\n",
      "R_PPC\n",
      "R_RPE\n",
      "R_RPI\n",
      "R_SUCDi\n",
      "R_TALA\n",
      "R_TKT2\n",
      "R_TPI\n",
      "\n",
      "Gerosa vs Ishii KO:\n",
      "R_ACONTa\n",
      "R_AKGDH\n",
      "R_ENO\n",
      "R_FBA\n",
      "R_FUM\n",
      "R_G6PDH2r\n",
      "R_GAPD\n",
      "R_GND\n",
      "R_ICDHyr\n",
      "R_ICL\n",
      "R_MALS\n",
      "R_PDH\n",
      "R_PGI\n",
      "R_PPC\n",
      "R_RPE\n",
      "R_RPI\n",
      "R_SUCDi\n",
      "R_TALA\n",
      "R_TKT2\n",
      "R_TPI\n"
     ]
    }
   ],
   "source": [
    "intersection_gr = (get_intersection(remove_ex_constant_zero(flux_g),\n",
    "                                 remove_ex_constant_zero(flux_i_gr)))\n",
    "\n",
    "intersection_ko = (get_intersection(remove_ex_constant_zero(flux_g),\n",
    "                                 remove_ex_constant_zero(flux_i_ko)))\n",
    "\n",
    "print('Gerosa vs Ishii GR:')\n",
    "for reaction in (sorted(flux_g[intersection_gr].drop(common_duplicates_gr, axis = 1).columns.tolist())): print(reaction)\n",
    "\n",
    "print('\\nGerosa vs Ishii KO:')\n",
    "for reaction in (sorted(flux_g[intersection_ko].drop(common_duplicates_gr, axis = 1).columns.tolist())): print(reaction)"
   ]
  }
 ],
 "metadata": {
  "kernelspec": {
   "display_name": "Python 3 (ipykernel)",
   "language": "python",
   "name": "python3"
  },
  "language_info": {
   "codemirror_mode": {
    "name": "ipython",
    "version": 3
   },
   "file_extension": ".py",
   "mimetype": "text/x-python",
   "name": "python",
   "nbconvert_exporter": "python",
   "pygments_lexer": "ipython3",
   "version": "3.8.8"
  }
 },
 "nbformat": 4,
 "nbformat_minor": 5
}
